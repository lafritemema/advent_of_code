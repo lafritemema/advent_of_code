{
 "cells": [
  {
   "cell_type": "code",
   "execution_count": 4,
   "id": "b6433414-d3c6-4df4-9e8c-4303c2a6ba57",
   "metadata": {},
   "outputs": [],
   "source": [
    "import re\n",
    "from typing import List, Dict"
   ]
  },
  {
   "cell_type": "code",
   "execution_count": 40,
   "id": "5f120af1-5daf-433a-9cfb-00b5c70b965e",
   "metadata": {},
   "outputs": [],
   "source": [
    "almanach = \"\"\"seeds: 79 14 55 13\n",
    "\n",
    "seed-to-soil map:\n",
    "50 98 2\n",
    "52 50 48\n",
    "\n",
    "soil-to-fertilizer map:\n",
    "0 15 37\n",
    "37 52 2\n",
    "39 0 15\n",
    "\n",
    "fertilizer-to-water map:\n",
    "49 53 8\n",
    "0 11 42\n",
    "42 0 7\n",
    "57 7 4\n",
    "\n",
    "water-to-light map:\n",
    "88 18 7\n",
    "18 25 70\n",
    "\n",
    "light-to-temperature map:\n",
    "45 77 23\n",
    "81 45 19\n",
    "68 64 13\n",
    "\n",
    "temperature-to-humidity map:\n",
    "0 69 1\n",
    "1 0 69\n",
    "\n",
    "humidity-to-location map:\n",
    "60 56 37\n",
    "56 93 4\n",
    "\"\"\"\n",
    "\n",
    "# split almanach\n",
    "almanach_lines = almanach.splitlines()"
   ]
  },
  {
   "cell_type": "code",
   "execution_count": 41,
   "id": "a9f85273-4759-4847-8795-d56c9cf01583",
   "metadata": {},
   "outputs": [],
   "source": [
    "with open('./input', 'r') as f:\n",
    "    almanach_lines = f.readlines()"
   ]
  },
  {
   "cell_type": "code",
   "execution_count": 42,
   "id": "8f97a9ec-2dd5-4365-b5bf-c4363c2be5e3",
   "metadata": {},
   "outputs": [],
   "source": [
    "class Almanach:\n",
    "    \n",
    "    def __init__(self, almanach_map):\n",
    "        self._map = almanach_map\n",
    "\n",
    "    @classmethod\n",
    "    def parse(cls, almanach:List[str]):\n",
    "        almanach_map = {}\n",
    "        almanach_gen = cls.almanach_parser_gen(almanach)\n",
    "        for name, _map in almanach_gen:\n",
    "            almanach_map[name]=_map\n",
    "\n",
    "        return cls(almanach_map)\n",
    "\n",
    "    def get_location_for_seed(self, seed:int):\n",
    "        path = [\"seed-to-soil\",\n",
    "                \"soil-to-fertilizer\",\n",
    "                \"fertilizer-to-water\",\n",
    "                \"water-to-light\",\n",
    "                \"light-to-temperature\",\n",
    "                \"temperature-to-humidity\",\n",
    "                \"humidity-to-location\"]\n",
    "        code = seed\n",
    "        for p in path:\n",
    "            _map = self._map[p]\n",
    "            for dest, source, _range in _map:\n",
    "                if code in range(source, source+_range):\n",
    "                    offset = code - source\n",
    "                    code = dest + offset\n",
    "                    break\n",
    "                    \n",
    "        return code\n",
    "\n",
    "    @classmethod\n",
    "    def almanach_parser_gen(cls, almanach:List[str]):\n",
    "        map_name_reg = r\"(?P<name>[a-z-]+)\\ (?:map)\"\n",
    "        map_line_reg = r\"\\d+\"\n",
    "        i=0\n",
    "        while i < len(almanach):\n",
    "            _map = []\n",
    "            mn = re.match(map_name_reg, almanach[i])\n",
    "            if mn:\n",
    "                name = mn.group('name')\n",
    "                i+=1\n",
    "                while True:\n",
    "                    try:\n",
    "                        values = re.findall(map_line_reg, almanach[i])\n",
    "                        if len(values) > 0 :\n",
    "                            _map.append(tuple(map(lambda x : int(x), values)))\n",
    "                        else:\n",
    "                            yield name, _map\n",
    "                            break\n",
    "                    except IndexError:\n",
    "                        yield name, _map\n",
    "                        break\n",
    "                    finally:\n",
    "                        i+=1\n",
    "            else:\n",
    "                i+=1\n",
    "        return None\n",
    "        "
   ]
  },
  {
   "cell_type": "code",
   "execution_count": 43,
   "id": "684b412e-9a89-4ff8-976c-3449a9eaaa5b",
   "metadata": {},
   "outputs": [],
   "source": [
    "# get the seeds\n",
    "seeds = almanach_lines.pop(0)[7:].split(' ')"
   ]
  },
  {
   "cell_type": "code",
   "execution_count": 44,
   "id": "0656cdda-b77d-4752-ac30-b5bcd29a5f38",
   "metadata": {},
   "outputs": [],
   "source": [
    "seeds = tuple(map(lambda x: int(x), seeds))"
   ]
  },
  {
   "cell_type": "code",
   "execution_count": 45,
   "id": "f1549ca6-59dc-4d0f-a04e-829b0672ab0b",
   "metadata": {},
   "outputs": [
    {
     "data": {
      "text/plain": [
       "(763445965,\n",
       " 78570222,\n",
       " 1693788857,\n",
       " 146680070,\n",
       " 1157620425,\n",
       " 535920936,\n",
       " 3187993807,\n",
       " 180072493,\n",
       " 1047354752,\n",
       " 20193861,\n",
       " 2130924847,\n",
       " 274042257,\n",
       " 20816377,\n",
       " 596708258,\n",
       " 950268560,\n",
       " 11451287,\n",
       " 3503767450,\n",
       " 182465951,\n",
       " 3760349291,\n",
       " 265669041)"
      ]
     },
     "execution_count": 45,
     "metadata": {},
     "output_type": "execute_result"
    }
   ],
   "source": [
    "seeds"
   ]
  },
  {
   "cell_type": "code",
   "execution_count": 37,
   "id": "d3ae2212-0ea8-4767-85b6-be9ae2a2f55c",
   "metadata": {},
   "outputs": [],
   "source": [
    "almanach = Almanach.parse(almanach_lines)"
   ]
  },
  {
   "cell_type": "code",
   "execution_count": 38,
   "id": "b2cad9b7-6d39-4da7-a389-2c142fd10fe7",
   "metadata": {},
   "outputs": [],
   "source": [
    "location = tuple(map(lambda x : almanach.get_location_for_seed(x), seeds))"
   ]
  },
  {
   "cell_type": "code",
   "execution_count": 39,
   "id": "ecc62fae-5371-4d2f-aa30-ae3492ba69bd",
   "metadata": {},
   "outputs": [
    {
     "data": {
      "text/plain": [
       "(82, 43, 86, 35)"
      ]
     },
     "execution_count": 39,
     "metadata": {},
     "output_type": "execute_result"
    }
   ],
   "source": [
    "location"
   ]
  },
  {
   "cell_type": "code",
   "execution_count": 30,
   "id": "8dcfa78d-1cbe-4eec-a166-203a20abf24c",
   "metadata": {},
   "outputs": [
    {
     "data": {
      "text/plain": [
       "35"
      ]
     },
     "execution_count": 30,
     "metadata": {},
     "output_type": "execute_result"
    }
   ],
   "source": [
    "min(location)"
   ]
  },
  {
   "cell_type": "code",
   "execution_count": 30,
   "id": "700fa226-6abe-496b-b636-3ff26aaa2499",
   "metadata": {},
   "outputs": [
    {
     "data": {
      "text/plain": [
       "{'seed-to-soil': [(50, 98, 2),\n",
       "  (52, 50, 48),\n",
       "  (),\n",
       "  (),\n",
       "  (0, 15, 37),\n",
       "  (37, 52, 2),\n",
       "  (39, 0, 15),\n",
       "  (),\n",
       "  (),\n",
       "  (49, 53, 8),\n",
       "  (0, 11, 42),\n",
       "  (42, 0, 7),\n",
       "  (57, 7, 4),\n",
       "  (),\n",
       "  (),\n",
       "  (88, 18, 7),\n",
       "  (18, 25, 70),\n",
       "  (),\n",
       "  (),\n",
       "  (45, 77, 23),\n",
       "  (81, 45, 19),\n",
       "  (68, 64, 13),\n",
       "  (),\n",
       "  (),\n",
       "  (0, 69, 1),\n",
       "  (1, 0, 69),\n",
       "  (),\n",
       "  (),\n",
       "  (60, 56, 37),\n",
       "  (56, 93, 4)]}"
      ]
     },
     "execution_count": 30,
     "metadata": {},
     "output_type": "execute_result"
    }
   ],
   "source": [
    "almanach._map"
   ]
  },
  {
   "cell_type": "code",
   "execution_count": null,
   "id": "c2bbe92a-d018-4c5d-b488-b2a096bf5109",
   "metadata": {},
   "outputs": [],
   "source": []
  }
 ],
 "metadata": {
  "kernelspec": {
   "display_name": "Python 3 (ipykernel)",
   "language": "python",
   "name": "python3"
  },
  "language_info": {
   "codemirror_mode": {
    "name": "ipython",
    "version": 3
   },
   "file_extension": ".py",
   "mimetype": "text/x-python",
   "name": "python",
   "nbconvert_exporter": "python",
   "pygments_lexer": "ipython3",
   "version": "3.11.4"
  }
 },
 "nbformat": 4,
 "nbformat_minor": 5
}
