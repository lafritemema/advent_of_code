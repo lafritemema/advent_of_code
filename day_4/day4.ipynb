{
 "cells": [
  {
   "cell_type": "code",
   "execution_count": 49,
   "id": "55a2c352-98fd-4354-b84b-e773684780c2",
   "metadata": {},
   "outputs": [],
   "source": [
    "from functools import reduce\n",
    "from math import pow\n",
    "import re"
   ]
  },
  {
   "cell_type": "code",
   "execution_count": 45,
   "id": "fcbdbada-56ed-4db7-9528-a83b267f8048",
   "metadata": {},
   "outputs": [],
   "source": [
    "cards = \"\"\"Card 1: 41 48 83 86 17 | 83 86  6 31 17  9 48 53\n",
    "Card 2: 13 32 20 16 61 | 61 30 68 82 17 32 24 19\n",
    "Card 3:  1 21 53 59 44 | 69 82 63 72 16 21 14  1\n",
    "Card 4: 41 92 73 84 69 | 59 84 76 51 58  5 54 83\n",
    "Card 5: 87 83 26 28 32 | 88 30 70 12 93 22 82 36\n",
    "Card 6: 31 18 13 56 72 | 74 77 10 23 35 67 36 11\"\"\""
   ]
  },
  {
   "cell_type": "code",
   "execution_count": 50,
   "id": "d6a5f132-6b95-441e-ac82-cfb44d3107df",
   "metadata": {},
   "outputs": [],
   "source": [
    "with open('./input', 'r') as f:\n",
    "    cards = f.read()"
   ]
  },
  {
   "cell_type": "code",
   "execution_count": 51,
   "id": "ae223b53-f432-434c-b42a-1dcd2ae02b98",
   "metadata": {},
   "outputs": [],
   "source": [
    "my_win_nums =[]"
   ]
  },
  {
   "cell_type": "code",
   "execution_count": 52,
   "id": "261d1ad8-9ff4-4deb-9e9a-5675db7ad403",
   "metadata": {},
   "outputs": [],
   "source": [
    "# list only nums\n",
    "cards = [x.split(':')[1].strip()\\\n",
    "         for x in cards.splitlines()]\n",
    "\n",
    "for card in cards:\n",
    "    card_win_num = []\n",
    "    \n",
    "    win_nums, my_nums = card.split('|')\n",
    "    win_nums = re.findall('\\d+', win_nums)\n",
    "    my_nums = re.findall('\\d+', my_nums)\n",
    "\n",
    "    for num in my_nums:\n",
    "        if num in win_nums:\n",
    "            card_win_num.append(num)\n",
    "    \n",
    "    if len(card_win_num) > 0:\n",
    "        my_win_nums.append(card_win_num)\n"
   ]
  },
  {
   "cell_type": "code",
   "execution_count": 54,
   "id": "e50f502f-ecfe-4aaa-836b-c275a4f1414c",
   "metadata": {},
   "outputs": [],
   "source": [
    "scores = [2**(len(x)-1) for x in my_win_nums]"
   ]
  },
  {
   "cell_type": "code",
   "execution_count": 55,
   "id": "d41ffaeb-1204-4811-986d-51aa9ed51fae",
   "metadata": {},
   "outputs": [
    {
     "data": {
      "text/plain": [
       "23441"
      ]
     },
     "execution_count": 55,
     "metadata": {},
     "output_type": "execute_result"
    }
   ],
   "source": [
    "sum(scores)"
   ]
  },
  {
   "cell_type": "code",
   "execution_count": null,
   "id": "7194eb79-9e81-4854-8b0f-a04885c5f4d6",
   "metadata": {},
   "outputs": [],
   "source": []
  }
 ],
 "metadata": {
  "kernelspec": {
   "display_name": "Python 3 (ipykernel)",
   "language": "python",
   "name": "python3"
  },
  "language_info": {
   "codemirror_mode": {
    "name": "ipython",
    "version": 3
   },
   "file_extension": ".py",
   "mimetype": "text/x-python",
   "name": "python",
   "nbconvert_exporter": "python",
   "pygments_lexer": "ipython3",
   "version": "3.11.4"
  }
 },
 "nbformat": 4,
 "nbformat_minor": 5
}
