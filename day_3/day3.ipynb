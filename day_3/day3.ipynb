{
 "cells": [
  {
   "cell_type": "code",
   "execution_count": 1,
   "id": "6e4a4911-47bb-40f1-8f0a-51ae8f33afdf",
   "metadata": {},
   "outputs": [],
   "source": [
    "import re"
   ]
  },
  {
   "cell_type": "code",
   "execution_count": 50,
   "id": "b531ca20-ee6b-404f-8f5f-53825eba2dd6",
   "metadata": {},
   "outputs": [],
   "source": [
    "schema_test = \"\"\"467..114..\n",
    "...*......\n",
    "..35..633.\n",
    "......#...\n",
    "617*......\n",
    ".....+.58.\n",
    "..592.....\n",
    "......755.\n",
    "...$.*....\n",
    ".664.598..\"\"\""
   ]
  },
  {
   "cell_type": "code",
   "execution_count": 51,
   "id": "79e98d7c-766a-494c-97ef-59d3b7a9a433",
   "metadata": {},
   "outputs": [],
   "source": [
    "with open('./input','r') as f:\n",
    "    schema = f.read()"
   ]
  },
  {
   "cell_type": "code",
   "execution_count": 52,
   "id": "387e4d3e-3326-4334-9ca0-1b63aaa16b6b",
   "metadata": {},
   "outputs": [],
   "source": [
    "schema_lines = schema.splitlines()"
   ]
  },
  {
   "cell_type": "code",
   "execution_count": 53,
   "id": "df4d5e48-b7fa-47a4-98d8-7922bb7c9906",
   "metadata": {},
   "outputs": [],
   "source": [
    "nums=[]\n",
    "spe_char_reg = '[^0-9\\.]'\n",
    "for index, line in enumerate(schema_lines):\n",
    "    for m in re.finditer('\\d+', line):\n",
    "        # check digit before and after\n",
    "        check_before = m.start() > 0 and not line[m.start()-1] == '.'\n",
    "        check_after = m.end() < len(line) and not line[m.end()] == '.'\n",
    "        \n",
    "        if check_before or check_after:\n",
    "            nums.append(int(m.group()))\n",
    "        else:\n",
    "            start = m.start()-1 if m.start() > 0 else 0\n",
    "            end = m.end() + 1 if m.end() < len(line) else m.end() \n",
    "\n",
    "            # check line before\n",
    "            check_line_before = index > 0 and re.search(spe_char_reg, schema_lines[index-1][start:end])\n",
    "            if check_line_before:\n",
    "                nums.append(int(m.group()))\n",
    "            else:\n",
    "                # check line after\n",
    "                check_line_after = index < len(schema_lines)-1 and re.search(spe_char_reg, schema_lines[index+1][start:end])\n",
    "                if check_line_after:\n",
    "                    nums.append(int(m.group()))\n",
    "                    "
   ]
  },
  {
   "cell_type": "code",
   "execution_count": 55,
   "id": "1e04a43e-8726-4d13-9e77-28a280ab4afe",
   "metadata": {},
   "outputs": [
    {
     "data": {
      "text/plain": [
       "520135"
      ]
     },
     "execution_count": 55,
     "metadata": {},
     "output_type": "execute_result"
    }
   ],
   "source": [
    "sum(nums)"
   ]
  }
 ],
 "metadata": {
  "kernelspec": {
   "display_name": "Python 3 (ipykernel)",
   "language": "python",
   "name": "python3"
  },
  "language_info": {
   "codemirror_mode": {
    "name": "ipython",
    "version": 3
   },
   "file_extension": ".py",
   "mimetype": "text/x-python",
   "name": "python",
   "nbconvert_exporter": "python",
   "pygments_lexer": "ipython3",
   "version": "3.11.4"
  }
 },
 "nbformat": 4,
 "nbformat_minor": 5
}
