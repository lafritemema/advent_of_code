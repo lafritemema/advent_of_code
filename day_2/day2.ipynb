{
 "cells": [
  {
   "cell_type": "markdown",
   "id": "7c2b1324-5fd3-449d-b575-077d5be2239e",
   "metadata": {},
   "source": [
    "Déterminez quels jeux auraient été possibles si le sac avait été rempli de seulement 12 cubes rouges, 13 cubes verts et 14 cubes bleus. "
   ]
  },
  {
   "cell_type": "code",
   "execution_count": 60,
   "id": "e8e324c7-eece-4118-91b4-a7636160eb81",
   "metadata": {},
   "outputs": [],
   "source": [
    "import re\n",
    "from functools import reduce"
   ]
  },
  {
   "cell_type": "code",
   "execution_count": 7,
   "id": "d143f4dd-f196-4dfd-9585-9ee395d25830",
   "metadata": {},
   "outputs": [],
   "source": [
    "cubes = {'red':12, 'green':13, 'blue':14}"
   ]
  },
  {
   "cell_type": "code",
   "execution_count": 27,
   "id": "9d75ee7c-f135-4326-9c27-b1d289ee721e",
   "metadata": {},
   "outputs": [],
   "source": [
    "def parse_game_str(game_str:str):\n",
    "    \n",
    "    games = {}\n",
    "    for line in game_str.splitlines():\n",
    "        game, samples = line.split(':')\n",
    "        game = int(re.sub('\\D', '', game))\n",
    "        games[game]=[]\n",
    "        for sample in samples.split(';'):\n",
    "            s={}\n",
    "            for d in sample.split(','):\n",
    "                nbr, color = d.strip().split(' ')\n",
    "                s[color] = int(nbr)\n",
    "            games[game].append(s)\n",
    "\n",
    "    return games\n",
    "                    \n",
    "        "
   ]
  },
  {
   "cell_type": "code",
   "execution_count": 28,
   "id": "957426b5-2329-41f4-a6fd-7166619d9f1d",
   "metadata": {},
   "outputs": [],
   "source": [
    "games = parse_game_str(games_str)"
   ]
  },
  {
   "cell_type": "code",
   "execution_count": 29,
   "id": "2b40dd92-e526-4524-afaf-85924d3caed9",
   "metadata": {},
   "outputs": [
    {
     "data": {
      "text/plain": [
       "{1: [{'blue': 3, 'red': 4}, {'red': 1, 'green': 2, 'blue': 6}, {'green': 2}],\n",
       " 2: [{'blue': 1, 'green': 2},\n",
       "  {'green': 3, 'blue': 4, 'red': 1},\n",
       "  {'green': 1, 'blue': 1}],\n",
       " 3: [{'green': 8, 'blue': 6, 'red': 20},\n",
       "  {'blue': 5, 'red': 4, 'green': 13},\n",
       "  {'green': 5, 'red': 1}],\n",
       " 4: [{'green': 1, 'red': 3, 'blue': 6},\n",
       "  {'green': 3, 'red': 6},\n",
       "  {'green': 3, 'blue': 15, 'red': 14}],\n",
       " 5: [{'red': 6, 'blue': 1, 'green': 3}, {'blue': 2, 'red': 1, 'green': 2}]}"
      ]
     },
     "execution_count": 29,
     "metadata": {},
     "output_type": "execute_result"
    }
   ],
   "source": [
    "games"
   ]
  },
  {
   "cell_type": "code",
   "execution_count": 46,
   "id": "d53b1735-d73b-4709-80c6-094e33fa4cdf",
   "metadata": {},
   "outputs": [],
   "source": [
    "def check_games(games):\n",
    "    valid_games = []\n",
    "    for game, samples in games.items():\n",
    "        try:\n",
    "            for sample in samples:\n",
    "                for color, num in sample.items():\n",
    "                    if num > cubes[color]:\n",
    "                        raise StopIteration\n",
    "            valid_games.append(game)\n",
    "        except StopIteration:\n",
    "            pass\n",
    "            \n",
    "    return valid_games"
   ]
  },
  {
   "cell_type": "code",
   "execution_count": 47,
   "id": "88579ccc-18c9-418e-a8b0-dbed02fbb8af",
   "metadata": {},
   "outputs": [],
   "source": [
    "test_games_str = \"\"\"Game 1: 3 blue, 4 red; 1 red, 2 green, 6 blue; 2 green\n",
    "Game 2: 1 blue, 2 green; 3 green, 4 blue, 1 red; 1 green, 1 blue\n",
    "Game 3: 8 green, 6 blue, 20 red; 5 blue, 4 red, 13 green; 5 green, 1 red\n",
    "Game 4: 1 green, 3 red, 6 blue; 3 green, 6 red; 3 green, 15 blue, 14 red\n",
    "Game 5: 6 red, 1 blue, 3 green; 2 blue, 1 red, 2 green\"\"\""
   ]
  },
  {
   "cell_type": "code",
   "execution_count": 48,
   "id": "d9d84a3c-82f9-489b-875b-4b05acf553fb",
   "metadata": {},
   "outputs": [],
   "source": [
    "games = parse_game_str(test_games_str)\n",
    "valid_games = check_games(games)"
   ]
  },
  {
   "cell_type": "code",
   "execution_count": 49,
   "id": "be10c8b7-883d-4e31-a2e8-6c2a5b43848b",
   "metadata": {},
   "outputs": [
    {
     "data": {
      "text/plain": [
       "[1, 2, 5]"
      ]
     },
     "execution_count": 49,
     "metadata": {},
     "output_type": "execute_result"
    }
   ],
   "source": [
    "valid_games"
   ]
  },
  {
   "cell_type": "code",
   "execution_count": 50,
   "id": "57d524cd-ed65-49f7-bdd0-452ec8edaa6f",
   "metadata": {},
   "outputs": [
    {
     "data": {
      "text/plain": [
       "8"
      ]
     },
     "execution_count": 50,
     "metadata": {},
     "output_type": "execute_result"
    }
   ],
   "source": [
    "sum(valid_games)"
   ]
  },
  {
   "cell_type": "code",
   "execution_count": 51,
   "id": "548c99a2-6a85-4445-9114-e3f04dfe9056",
   "metadata": {},
   "outputs": [],
   "source": [
    "with open('./input', 'r') as f:\n",
    "    games_str = f.read()"
   ]
  },
  {
   "cell_type": "code",
   "execution_count": 54,
   "id": "8d6159b3-da66-410b-b97f-a8e5ec3346e4",
   "metadata": {},
   "outputs": [],
   "source": [
    "games = parse_game_str(games_str)\n",
    "valid_games = check_games(games)"
   ]
  },
  {
   "cell_type": "code",
   "execution_count": 56,
   "id": "5d6257c7-29bf-44bb-87e7-95a1ed7833e4",
   "metadata": {},
   "outputs": [
    {
     "data": {
      "text/plain": [
       "2439"
      ]
     },
     "execution_count": 56,
     "metadata": {},
     "output_type": "execute_result"
    }
   ],
   "source": [
    "sum(valid_games)"
   ]
  },
  {
   "cell_type": "code",
   "execution_count": 64,
   "id": "e8af0077-cb70-4cd1-82dc-02e2a2f49d4c",
   "metadata": {},
   "outputs": [],
   "source": [
    "def get_fewest_powers(games):\n",
    "    powers = []\n",
    "    for samples in games.values():\n",
    "        fewest = {'red':0, 'blue':0, 'green':0}\n",
    "        for sample in samples:\n",
    "            for color, num in sample.items():\n",
    "                if num > fewest[color]:\n",
    "                    fewest[color]=num\n",
    "                    \n",
    "        pow = reduce(lambda x, y : x*y, fewest.values())\n",
    "        powers.append(pow)\n",
    "\n",
    "    return powers"
   ]
  },
  {
   "cell_type": "code",
   "execution_count": 65,
   "id": "0521f03f-9142-407b-bc0d-ed63e74bba6a",
   "metadata": {},
   "outputs": [],
   "source": [
    "fewest_pow = get_fewest_powers(games)"
   ]
  },
  {
   "cell_type": "code",
   "execution_count": 67,
   "id": "94293e01-b5d9-4ae4-8773-16f4ee94fa01",
   "metadata": {},
   "outputs": [
    {
     "data": {
      "text/plain": [
       "63711"
      ]
     },
     "execution_count": 67,
     "metadata": {},
     "output_type": "execute_result"
    }
   ],
   "source": [
    "sum(fewest_pow)"
   ]
  },
  {
   "cell_type": "code",
   "execution_count": null,
   "id": "d437adc0-5dd0-400e-9cb0-072b6f4abcf8",
   "metadata": {},
   "outputs": [],
   "source": []
  }
 ],
 "metadata": {
  "kernelspec": {
   "display_name": "Python 3 (ipykernel)",
   "language": "python",
   "name": "python3"
  },
  "language_info": {
   "codemirror_mode": {
    "name": "ipython",
    "version": 3
   },
   "file_extension": ".py",
   "mimetype": "text/x-python",
   "name": "python",
   "nbconvert_exporter": "python",
   "pygments_lexer": "ipython3",
   "version": "3.11.4"
  }
 },
 "nbformat": 4,
 "nbformat_minor": 5
}
